{
 "cells": [
  {
   "cell_type": "code",
   "execution_count": 130,
   "metadata": {},
   "outputs": [],
   "source": [
    "import pymupdf\n",
    "import fontTools"
   ]
  },
  {
   "cell_type": "code",
   "execution_count": null,
   "metadata": {},
   "outputs": [],
   "source": [
    "doc = fitz.open(r\"C:\\Users\\lenovo 61IN\\Desktop\\2210.03629.pdf\", filetype='pdf')"
   ]
  },
  {
   "cell_type": "code",
   "execution_count": null,
   "metadata": {},
   "outputs": [],
   "source": [
    "print(doc)"
   ]
  },
  {
   "cell_type": "code",
   "execution_count": null,
   "metadata": {},
   "outputs": [],
   "source": [
    "type(doc)"
   ]
  },
  {
   "cell_type": "code",
   "execution_count": null,
   "metadata": {},
   "outputs": [],
   "source": [
    "doc.page_count"
   ]
  },
  {
   "cell_type": "code",
   "execution_count": null,
   "metadata": {},
   "outputs": [],
   "source": [
    "doc.metadata"
   ]
  },
  {
   "cell_type": "code",
   "execution_count": null,
   "metadata": {},
   "outputs": [],
   "source": [
    "print(doc.get_toc())"
   ]
  },
  {
   "cell_type": "code",
   "execution_count": null,
   "metadata": {},
   "outputs": [],
   "source": [
    "doc.load_page(page_id=3)"
   ]
  },
  {
   "cell_type": "code",
   "execution_count": null,
   "metadata": {},
   "outputs": [],
   "source": [
    "output = open(\"output.txt\", \"wb\")"
   ]
  },
  {
   "cell_type": "code",
   "execution_count": null,
   "metadata": {},
   "outputs": [],
   "source": [
    "type(output)"
   ]
  },
  {
   "cell_type": "code",
   "execution_count": null,
   "metadata": {},
   "outputs": [],
   "source": [
    "print(output)"
   ]
  },
  {
   "cell_type": "code",
   "execution_count": null,
   "metadata": {},
   "outputs": [],
   "source": [
    "for page in doc:\n",
    "    text = page.get_text().encode(\"utf8\")\n",
    "    output.write(text)\n",
    "    output.write(bytes((12,)))\n",
    "output.close"
   ]
  },
  {
   "cell_type": "code",
   "execution_count": 131,
   "metadata": {},
   "outputs": [
    {
     "name": "stdout",
     "output_type": "stream",
     "text": [
      "Processing complete.\n"
     ]
    }
   ],
   "source": [
    "import os\n",
    "import fitz\n",
    "\n",
    "input_dir ='input'\n",
    "output_dir = 'output'\n",
    "\n",
    "os.makedirs(input_dir, exist_ok=True)\n",
    "os.makedirs(output_dir, exist_ok=True)\n",
    "\n",
    "for filename in os.listdir(input_dir):\n",
    "    if filename.endswith(\".pdf\"):\n",
    "        input_pdf_path = os.path.join(input_dir, filename)\n",
    "        \n",
    "        try:\n",
    "            doc = fitz.open(input_pdf_path)\n",
    "        except Exception as e:\n",
    "            print(f\"Error opening PDF file {input_pdf_path}: {e}\")\n",
    "            continue\n",
    "\n",
    "        output_txt_path = os.path.join(output_dir, filename.replace('.pdf', '.txt'))\n",
    "\n",
    "        with open(output_txt_path, \"wb\") as output:\n",
    "            for page_number in range(len(doc)):\n",
    "                try:\n",
    "                    page = doc.load_page(page_number)\n",
    "                    text = page.get_text().encode(\"utf8\")\n",
    "                    output.write(text)\n",
    "                    output.write(bytes((12,)))\n",
    "                except Exception as e:\n",
    "                    print(f\"Error extracting text from page {page_number + 1} of {input_pdf_path}: {e}\")\n",
    "                    continue\n",
    "\n",
    "        doc.close()\n",
    "\n",
    "print(\"Processing complete.\")"
   ]
  },
  {
   "cell_type": "code",
   "execution_count": null,
   "metadata": {},
   "outputs": [],
   "source": []
  }
 ],
 "metadata": {
  "kernelspec": {
   "display_name": "PyMuPDF",
   "language": "python",
   "name": "python3"
  },
  "language_info": {
   "codemirror_mode": {
    "name": "ipython",
    "version": 3
   },
   "file_extension": ".py",
   "mimetype": "text/x-python",
   "name": "python",
   "nbconvert_exporter": "python",
   "pygments_lexer": "ipython3",
   "version": "3.11.4"
  }
 },
 "nbformat": 4,
 "nbformat_minor": 2
}
